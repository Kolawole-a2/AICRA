{
  "cells": [
    {
      "cell_type": "markdown",
      "metadata": {},
      "source": [
        "# Quickstart\n",
        "Minimal demo to load predictions and plot ROC/PR.\n"
      ]
    },
    {
      "cell_type": "code",
      "execution_count": null,
      "metadata": {},
      "outputs": [],
      "source": [
        "import numpy as np\n",
        "import matplotlib.pyplot as plt\n",
        "from sklearn.metrics import roc_curve, precision_recall_curve, auc\n",
        "\n",
        "ns = np.load('artifacts/predictions.npz', allow_pickle=True)\n",
        "y = ns['val_labels']\n",
        "probs = ns['val_probs']\n",
        "\n",
        "fpr, tpr, _ = roc_curve(y, probs)\n",
        "roc_auc = auc(fpr, tpr)\n",
        "plt.figure(figsize=(6,6))\n",
        "plt.plot(fpr, tpr, label=f'AUROC={roc_auc:.3f}')\n",
        "plt.plot([0,1],[0,1],'k--')\n",
        "plt.xlabel('FPR')\n",
        "plt.ylabel('TPR')\n",
        "plt.title('Ransomware AUROC')\n",
        "plt.legend()\n",
        "plt.show()\n",
        "\n",
        "precision, recall, _ = precision_recall_curve(y, probs)\n",
        "pr_auc = auc(recall, precision)\n",
        "plt.figure(figsize=(6,6))\n",
        "plt.plot(recall, precision, label=f'PR-AUC={pr_auc:.3f}')\n",
        "plt.xlabel('Recall')\n",
        "plt.ylabel('Precision')\n",
        "plt.title('Ransomware PR Curve')\n",
        "plt.legend()\n",
        "plt.show()\n"
      ]
    }
  ],
  "metadata": {
    "language_info": {
      "name": "python"
    }
  },
  "nbformat": 4,
  "nbformat_minor": 2
}




